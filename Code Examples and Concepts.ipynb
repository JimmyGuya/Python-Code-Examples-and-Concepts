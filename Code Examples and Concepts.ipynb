{
 "cells": [
  {
   "cell_type": "markdown",
   "id": "3df3a0e7-798f-40d6-a107-03979e18cfc6",
   "metadata": {},
   "source": [
    "## 1) Check if a String is a Palindrome using a Stack\n",
    "A stack is a data structure that follows the Last In, First Out (LIFO) principle. To check if a string is a palindrome using a stack:\n",
    "\n",
    "Push each character of the string onto the stack.\n",
    "Pop each character off the stack and compare it to the original string.\n",
    "If the original string and the reversed string (from the stack) are the same, the string is a palindrome."
   ]
  },
  {
   "cell_type": "code",
   "execution_count": 2,
   "id": "c123a4a2-3908-48b8-a2e4-e6406740eed8",
   "metadata": {},
   "outputs": [
    {
     "name": "stdout",
     "output_type": "stream",
     "text": [
      "True\n",
      "False\n"
     ]
    }
   ],
   "source": [
    "def is_palindrome(s):\n",
    "    stack = []\n",
    "    \n",
    "    # Push all characters onto the stack\n",
    "    for char in s:\n",
    "        stack.append(char)\n",
    "    \n",
    "    # Pop characters from the stack and compare with original string\n",
    "    for char in s:\n",
    "        if char != stack.pop():\n",
    "            return False\n",
    "    \n",
    "    return True\n",
    "\n",
    "# Example usage\n",
    "string = \"radar\"\n",
    "print(is_palindrome(string))  # Output: True\n",
    "\n",
    "string = \"hello\"\n",
    "print(is_palindrome(string))  # Output: False\n"
   ]
  },
  {
   "cell_type": "markdown",
   "id": "8717aad9-b42c-40b1-bb7d-be4bc59b281e",
   "metadata": {},
   "source": [
    "## 2) Concept of List Comprehension in Python\n",
    "\n",
    "List comprehension is a concise way to create lists in Python. It allows you to generate a new list by applying an expression to each item in an iterable."
   ]
  },
  {
   "cell_type": "markdown",
   "id": "ac7f0f19-97b2-42d0-a488-6ac64c18e43c",
   "metadata": {},
   "source": [
    "## Examples:\n",
    "\n",
    "Example 1: Create a list of squares of numbers from 1 to 10."
   ]
  },
  {
   "cell_type": "code",
   "execution_count": 5,
   "id": "ef60e777-f4d2-4064-a454-14742e7004e5",
   "metadata": {},
   "outputs": [],
   "source": [
    "squares = [x**2 for x in range(1, 11)]"
   ]
  },
  {
   "cell_type": "markdown",
   "id": "a72824dd-a996-44cd-a127-80d2c0d2c7a0",
   "metadata": {},
   "source": [
    "Example 2: Create a list of even numbers from 0 to 20."
   ]
  },
  {
   "cell_type": "code",
   "execution_count": 7,
   "id": "c075b047-809c-41c5-ba7e-59d307ddd063",
   "metadata": {},
   "outputs": [],
   "source": [
    "evens = [x for x in range(21) if x % 2 == 0]"
   ]
  },
  {
   "cell_type": "markdown",
   "id": "69314d51-79cf-4a85-8087-74a5354808db",
   "metadata": {},
   "source": [
    "Example 3: Convert all strings in a list to uppercase."
   ]
  },
  {
   "cell_type": "code",
   "execution_count": 9,
   "id": "5dae9397-309c-499c-b4d3-95eb2e497a97",
   "metadata": {},
   "outputs": [],
   "source": [
    "words = ['hello', 'world', 'python']\n",
    "uppercase_words = [word.upper() for word in words]"
   ]
  },
  {
   "cell_type": "markdown",
   "id": "ea590237-7cab-4b93-9eaf-e025e9759ede",
   "metadata": {},
   "source": [
    "## 3) Compound Data Types in Python\n",
    "A compound data type can hold multiple items together. They are useful for grouping related data."
   ]
  },
  {
   "cell_type": "markdown",
   "id": "3c0c19ab-88be-4412-88fa-2feb9ecfa842",
   "metadata": {},
   "source": [
    "Examples:\n",
    "\n",
    "List: A collection of ordered and changeable items."
   ]
  },
  {
   "cell_type": "code",
   "execution_count": 12,
   "id": "938cb6f9-5d9b-44a8-a3c8-bea430058758",
   "metadata": {},
   "outputs": [],
   "source": [
    "fruits = ['apple', 'banana', 'cherry']"
   ]
  },
  {
   "cell_type": "markdown",
   "id": "f4fb5075-8309-454a-b242-4522ebce0d2a",
   "metadata": {},
   "source": [
    "Tuple: An ordered and immutable collection of items."
   ]
  },
  {
   "cell_type": "code",
   "execution_count": 14,
   "id": "7a2cd2f8-4e13-4516-98d2-b9f96a451d59",
   "metadata": {},
   "outputs": [],
   "source": [
    "point = (3, 5)"
   ]
  },
  {
   "cell_type": "markdown",
   "id": "b7c06abb-7681-4270-9a01-2211d992f0c2",
   "metadata": {},
   "source": [
    "Dictionary: A collection of key-value pairs."
   ]
  },
  {
   "cell_type": "code",
   "execution_count": 16,
   "id": "e87b5e72-e857-4687-a8ac-26d5e5010f96",
   "metadata": {},
   "outputs": [],
   "source": [
    "student_grades = {'John': 'A', 'Jane': 'B+', 'Jim': 'B'}"
   ]
  },
  {
   "cell_type": "markdown",
   "id": "98593d4f-e038-448c-b200-8e69789129d8",
   "metadata": {},
   "source": [
    "## 4) Function to Return a List of Bigrams\n",
    "Bigrams are pairs of consecutive words or characters."
   ]
  },
  {
   "cell_type": "code",
   "execution_count": 18,
   "id": "ec68376f-f74e-468f-a5ea-efdc16a0bd8e",
   "metadata": {},
   "outputs": [
    {
     "name": "stdout",
     "output_type": "stream",
     "text": [
      "['he', 'el', 'll', 'lo']\n"
     ]
    }
   ],
   "source": [
    "def get_bigrams(s):\n",
    "    return [s[i:i+2] for i in range(len(s)-1)]\n",
    "\n",
    "# Example usage\n",
    "text = \"hello\"\n",
    "print(get_bigrams(text))  # Output: ['he', 'el', 'll', 'lo']"
   ]
  },
  {
   "cell_type": "markdown",
   "id": "11ca5a84-0f59-408d-91f1-1bdd79f15f3a",
   "metadata": {},
   "source": [
    "## 5) Function to Find the Closest Key in a Dictionary\n",
    "Given a dictionary where keys are letters and values are lists of letters, you can find the key where the input value is closest to the start of the list."
   ]
  },
  {
   "cell_type": "code",
   "execution_count": 20,
   "id": "091823a7-e4af-4520-873b-e757e6f8856b",
   "metadata": {},
   "outputs": [
    {
     "name": "stdout",
     "output_type": "stream",
     "text": [
      "a\n"
     ]
    }
   ],
   "source": [
    "def closest_key(d, value):\n",
    "    closest = None\n",
    "    for key, values in d.items():\n",
    "        if value in values:\n",
    "            if closest is None or values.index(value) < d[closest].index(value):\n",
    "                closest = key\n",
    "    return closest\n",
    "\n",
    "# Example usage\n",
    "d = {\n",
    "    'a': ['b', 'c', 'd'],\n",
    "    'x': ['y', 'z'],\n",
    "    'p': ['q', 'r', 's']\n",
    "}\n",
    "\n",
    "value = 'c'\n",
    "print(closest_key(d, value))  # Output: 'a'"
   ]
  },
  {
   "cell_type": "code",
   "execution_count": null,
   "id": "063a417c-510c-4642-a7b4-88e9e23ac756",
   "metadata": {},
   "outputs": [],
   "source": []
  }
 ],
 "metadata": {
  "kernelspec": {
   "display_name": "Python 3 (ipykernel)",
   "language": "python",
   "name": "python3"
  },
  "language_info": {
   "codemirror_mode": {
    "name": "ipython",
    "version": 3
   },
   "file_extension": ".py",
   "mimetype": "text/x-python",
   "name": "python",
   "nbconvert_exporter": "python",
   "pygments_lexer": "ipython3",
   "version": "3.12.4"
  }
 },
 "nbformat": 4,
 "nbformat_minor": 5
}
